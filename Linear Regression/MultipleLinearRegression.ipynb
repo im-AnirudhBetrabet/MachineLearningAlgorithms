{
 "cells": [
  {
   "cell_type": "markdown",
   "id": "de355dde-dc4a-410d-8124-70f78d87ea2f",
   "metadata": {},
   "source": [
    "# Multiple Linear regression"
   ]
  },
  {
   "cell_type": "markdown",
   "id": "15a2ca59-b9f9-4d6b-bcea-7a4b3ec303f9",
   "metadata": {},
   "source": [
    "* The equation for multiple linear regression is given by:\n",
    "  - $$ \\hat{y} = \\theta_{0} + \\theta_{1}x_{1} + \\theta_{2}x_{2} + ...... + \\theta_{n-1}x_{n-1} + \\theta_{n}x_{n}$$\n",
    "  - $$ \\hat{y} = X^{T}\\theta$$\n",
    "\n",
    "* The gradient descent equation for multiple linear regession is given by:\n",
    "  - $$ \\theta_{0} \\leftarrow \\theta_{0} - \\alpha\\nabla\\theta_0 \\Rightarrow \\nabla\\theta_0 = \\frac{1}{n} \\Sigma_{i = 1}^{n} (y_i - \\hat{y}_i)$$\n",
    "  - $$ \\theta_{j} \\leftarrow \\theta_{j} - \\alpha\\nabla\\theta_j \\Rightarrow \\nabla\\theta_j = \\frac{1}{n} \\Sigma_{i = 1}^{n} [(y_i - \\hat{y}_{i})x_j^{(i)}] $$"
   ]
  },
  {
   "cell_type": "code",
   "execution_count": null,
   "id": "3ac35755-2152-4114-9d84-233e4385396a",
   "metadata": {},
   "outputs": [],
   "source": [
    "import numpy as np\n",
    "import matplotlib.pyplot as plt\n",
    "import seaborn as sns\n",
    "class MultipleLinearRegression:\n",
    "    def __init__(self, learning_rate: float = 0.01, num_iterations: int = 1000):\n",
    "        self.learning_rate  = learning_rate                                          ## Initialising the learning rate.\n",
    "        self.num_iterations = num_iterations                                         ## Initialising the number of iterations.\n",
    "        self.X              = None                                                   ## Initialising the features array.\n",
    "        self.y              = None                                                   ## Initialising the target array.\n",
    "        self.N              = 0                                                      ## Initialising the number of samples.\n",
    "        self.D              = 0                                                      ## Initialising the number of features.\n",
    "        self.weights        = None                                                   ## Initialising the weights.\n",
    "        self.bias           = None                                                   ## Initialising the bias.\n",
    "        self.training_costs = list()                                                 ## Initialising a list to store the training cost history for the model.\n",
    "    \n",
    "    def fit(self, X, y):                                                             ## Method to train the model.\n",
    "        self.X         = X                                                           ## Setting the feature array.\n",
    "        self.y         = y                                                           ## Setting the target array.\n",
    "        self.N, self.D = self.X.shape                                                ## Setting the number of samples and the number of features.\n",
    "        self.weights   = np.zeros(self.D)                                            ## Setting the weights as an array of zeros.\n",
    "        self.bias      = 0                                                           ## Setting the bias to 0.\n",
    "            \n",
    "        for i in range(self.num_iterations):                                         ## Training the model.\n",
    "            self.update_weights()                                                    ## Performing gradient descent.\n",
    "            current_cost = self.get_current_cost()                                   ## Getting the current training cost / error.\n",
    "            self.training_costs.append(current_cost)\n",
    "            if i % 100 == 0:\n",
    "                print(f'Iteration {i}, Cost: {current_cost}')\n",
    "            \n",
    "    def update_weights(self):\n",
    "        y_pred        = self.predict(self.X)                                         ## Getting the predictions with the current weights and bias.\n",
    "        dw            = (1 / self.N) * np.dot(self.X.T, (y_pred - self.y))           ## Computing the gradient for weight with the current predictions.\n",
    "        db            = (1 / self.N) * np.sum(y_pred - self.y)                       ## Computing the gradient for bias with the current predictions.\n",
    "        self.weights -= self.learning_rate * dw                                      ## Updating the weights.\n",
    "        self.bias    -= self.learning_rate * db                                      ## Updating the bias.\n",
    "        \n",
    "    def get_current_cost(self):\n",
    "        y_pred = self.predict(self.X)                                                ## Getting the predictions with the current weights and bias.\n",
    "        cost   = (1 / (2 * self.N)) * np.sum((y_pred - self.y)**2)                   ## Computing the mean squared error.\n",
    "        return cost\n",
    "        \n",
    "    def predict(self, X):                                                            ## Method to predict the values for the given input using the current weights and bias.\n",
    "        y = np.dot(X, self.weights) + self.bias\n",
    "        return y\n",
    "\n",
    "    def plot_cost_progression(self):\n",
    "        cost_progression_chart = plt.figure(figsize=(8, 8))\n",
    "        plt.style.use(\"ggplot\")\n",
    "        sns.lineplot(x=range(1, len(self.training_costs) + 1), y=self.training_costs)\n",
    "        plt.xlabel(\"Number of iterations\")\n",
    "        plt.ylabel(\"Training cost or error\")\n",
    "        plt.title(\"Progression of training cost / error v/s iterations\")\n",
    "        plt.grid(True)\n",
    "        plt.show()"
   ]
  },
  {
   "cell_type": "code",
   "execution_count": null,
   "id": "3f13ce8a-4421-45fd-9e87-20a8e5da4f22",
   "metadata": {},
   "outputs": [],
   "source": [
    "from sklearn.datasets import make_regression\n",
    "from sklearn.preprocessing import StandardScaler\n",
    "scaler = StandardScaler()\n",
    "X, y = make_regression(n_samples=5000, n_features=3, noise=10, random_state=42)\n",
    "X = scaler.fit_transform(X)\n",
    "model = MultipleLinearRegression(0.01, 2000)\n",
    "model.fit(X, y)\n",
    "y_pred = model.predict(X)\n"
   ]
  },
  {
   "cell_type": "code",
   "execution_count": null,
   "id": "720c4730-7deb-4fbf-b505-f0fff9c314b6",
   "metadata": {},
   "outputs": [],
   "source": [
    "model.plot_cost_progression()"
   ]
  }
 ],
 "metadata": {
  "kernelspec": {
   "display_name": "Python [conda env:base] *",
   "language": "python",
   "name": "conda-base-py"
  },
  "language_info": {
   "codemirror_mode": {
    "name": "ipython",
    "version": 3
   },
   "file_extension": ".py",
   "mimetype": "text/x-python",
   "name": "python",
   "nbconvert_exporter": "python",
   "pygments_lexer": "ipython3",
   "version": "3.12.7"
  }
 },
 "nbformat": 4,
 "nbformat_minor": 5
}
